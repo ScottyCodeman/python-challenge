{
 "cells": [
  {
   "cell_type": "code",
   "execution_count": 1,
   "id": "1ec580f2-c1ca-493d-a212-329cf4dd0229",
   "metadata": {},
   "outputs": [
    {
     "name": "stdout",
     "output_type": "stream",
     "text": [
      "C:\\Users\\scott\\OneDrive\\Documents\\GitHub\\python-homework\\pyBank\n"
     ]
    }
   ],
   "source": [
    "import os # for file path\n",
    "import csv # for reading csv file\n",
    "\n",
    "current_dir = os.getcwd() # get current working dir\n",
    "print(current_dir)"
   ]
  },
  {
   "cell_type": "code",
   "execution_count": 27,
   "id": "61558781-e0d2-443c-bccd-dfc8d25263d3",
   "metadata": {},
   "outputs": [
    {
     "name": "stdout",
     "output_type": "stream",
     "text": [
      "C:\\Users\\scott\\OneDrive\\Documents\\GitHub\\python-homework\\pyBank\n",
      "C:\\Users\\scott\\OneDrive\\Documents\\GitHub\\python-homework\\pyBank\\Resources\\budget_data.csv\n",
      "[{'Date': 'Jan-2010', 'Profit/Losses': '867884'}, {'Date': 'Feb-2010', 'Profit/Losses': '984655'}, {'Date': 'Mar-2010', 'Profit/Losses': '322013'}, {'Date': 'Apr-2010', 'Profit/Losses': '-69417'}, {'Date': 'May-2010', 'Profit/Losses': '310503'}, {'Date': 'Jun-2010', 'Profit/Losses': '522857'}, {'Date': 'Jul-2010', 'Profit/Losses': '1033096'}, {'Date': 'Aug-2010', 'Profit/Losses': '604885'}, {'Date': 'Sep-2010', 'Profit/Losses': '-216386'}, {'Date': 'Oct-2010', 'Profit/Losses': '477532'}, {'Date': 'Nov-2010', 'Profit/Losses': '893810'}, {'Date': 'Dec-2010', 'Profit/Losses': '-80353'}, {'Date': 'Jan-2011', 'Profit/Losses': '779806'}, {'Date': 'Feb-2011', 'Profit/Losses': '-335203'}, {'Date': 'Mar-2011', 'Profit/Losses': '697845'}, {'Date': 'Apr-2011', 'Profit/Losses': '793163'}, {'Date': 'May-2011', 'Profit/Losses': '485070'}, {'Date': 'Jun-2011', 'Profit/Losses': '584122'}, {'Date': 'Jul-2011', 'Profit/Losses': '62729'}, {'Date': 'Aug-2011', 'Profit/Losses': '668179'}, {'Date': 'Sep-2011', 'Profit/Losses': '899906'}, {'Date': 'Oct-2011', 'Profit/Losses': '834719'}, {'Date': 'Nov-2011', 'Profit/Losses': '132003'}, {'Date': 'Dec-2011', 'Profit/Losses': '309978'}, {'Date': 'Jan-2012', 'Profit/Losses': '-755566'}, {'Date': 'Feb-2012', 'Profit/Losses': '1170593'}, {'Date': 'Mar-2012', 'Profit/Losses': '252788'}, {'Date': 'Apr-2012', 'Profit/Losses': '1151518'}, {'Date': 'May-2012', 'Profit/Losses': '817256'}, {'Date': 'Jun-2012', 'Profit/Losses': '570757'}, {'Date': 'Jul-2012', 'Profit/Losses': '506702'}, {'Date': 'Aug-2012', 'Profit/Losses': '-1022534'}, {'Date': 'Sep-2012', 'Profit/Losses': '475062'}, {'Date': 'Oct-2012', 'Profit/Losses': '779976'}, {'Date': 'Nov-2012', 'Profit/Losses': '144175'}, {'Date': 'Dec-2012', 'Profit/Losses': '542494'}, {'Date': 'Jan-2013', 'Profit/Losses': '359333'}, {'Date': 'Feb-2013', 'Profit/Losses': '321469'}, {'Date': 'Mar-2013', 'Profit/Losses': '67780'}, {'Date': 'Apr-2013', 'Profit/Losses': '471435'}, {'Date': 'May-2013', 'Profit/Losses': '565603'}, {'Date': 'Jun-2013', 'Profit/Losses': '872480'}, {'Date': 'Jul-2013', 'Profit/Losses': '789480'}, {'Date': 'Aug-2013', 'Profit/Losses': '999942'}, {'Date': 'Sep-2013', 'Profit/Losses': '-1196225'}, {'Date': 'Oct-2013', 'Profit/Losses': '268997'}, {'Date': 'Nov-2013', 'Profit/Losses': '-687986'}, {'Date': 'Dec-2013', 'Profit/Losses': '1150461'}, {'Date': 'Jan-2014', 'Profit/Losses': '682458'}, {'Date': 'Feb-2014', 'Profit/Losses': '617856'}, {'Date': 'Mar-2014', 'Profit/Losses': '824098'}, {'Date': 'Apr-2014', 'Profit/Losses': '581943'}, {'Date': 'May-2014', 'Profit/Losses': '132864'}, {'Date': 'Jun-2014', 'Profit/Losses': '448062'}, {'Date': 'Jul-2014', 'Profit/Losses': '689161'}, {'Date': 'Aug-2014', 'Profit/Losses': '800701'}, {'Date': 'Sep-2014', 'Profit/Losses': '1166643'}, {'Date': 'Oct-2014', 'Profit/Losses': '947333'}, {'Date': 'Nov-2014', 'Profit/Losses': '578668'}, {'Date': 'Dec-2014', 'Profit/Losses': '988505'}, {'Date': 'Jan-2015', 'Profit/Losses': '1139715'}, {'Date': 'Feb-2015', 'Profit/Losses': '1029471'}, {'Date': 'Mar-2015', 'Profit/Losses': '687533'}, {'Date': 'Apr-2015', 'Profit/Losses': '-524626'}, {'Date': 'May-2015', 'Profit/Losses': '158620'}, {'Date': 'Jun-2015', 'Profit/Losses': '87795'}, {'Date': 'Jul-2015', 'Profit/Losses': '423389'}, {'Date': 'Aug-2015', 'Profit/Losses': '840723'}, {'Date': 'Sep-2015', 'Profit/Losses': '568529'}, {'Date': 'Oct-2015', 'Profit/Losses': '332067'}, {'Date': 'Nov-2015', 'Profit/Losses': '989499'}, {'Date': 'Dec-2015', 'Profit/Losses': '778237'}, {'Date': 'Jan-2016', 'Profit/Losses': '650000'}, {'Date': 'Feb-2016', 'Profit/Losses': '-1100387'}, {'Date': 'Mar-2016', 'Profit/Losses': '-174946'}, {'Date': 'Apr-2016', 'Profit/Losses': '757143'}, {'Date': 'May-2016', 'Profit/Losses': '445709'}, {'Date': 'Jun-2016', 'Profit/Losses': '712961'}, {'Date': 'Jul-2016', 'Profit/Losses': '-1163797'}, {'Date': 'Aug-2016', 'Profit/Losses': '569899'}, {'Date': 'Sep-2016', 'Profit/Losses': '768450'}, {'Date': 'Oct-2016', 'Profit/Losses': '102685'}, {'Date': 'Nov-2016', 'Profit/Losses': '795914'}, {'Date': 'Dec-2016', 'Profit/Losses': '60988'}, {'Date': 'Jan-2017', 'Profit/Losses': '138230'}, {'Date': 'Feb-2017', 'Profit/Losses': '671099'}]\n",
      "Total Months : 86\n"
     ]
    }
   ],
   "source": [
    "import os # for file path\n",
    "import csv # for reading csv file\n",
    "\n",
    "current_dir = os.getcwd() # get current working dir\n",
    "print(current_dir)\n",
    "\n",
    "path_budget_data = os.path.join(current_dir, \"Resources\", \"budget_data.csv\") # get the csv file path\n",
    "print(path_budget_data)\n",
    "\n",
    "\n",
    "\n",
    "def read_csv_file(file_path):\n",
    "    \n",
    "    b_data = []\n",
    "    with open(file_path, 'r') as file:\n",
    "        reader = csv.DictReader(file)\n",
    "        for row in reader:\n",
    "            b_data.append(dict(row))\n",
    "    return b_data\n",
    "\n",
    "b_data = read_csv_file(path_budget_data)\n",
    "print(b_data) # imported csv file \n"
   ]
  },
  {
   "cell_type": "code",
   "execution_count": 35,
   "id": "de9331ad-82c0-4b1f-9a1c-bb4f3960a6e1",
   "metadata": {},
   "outputs": [
    {
     "name": "stdout",
     "output_type": "stream",
     "text": [
      "[116771, -662642, -391430, 379920, 212354, 510239, -428211, -821271, 693918, 416278, -974163, 860159, -1115009, 1033048, 95318, -308093, 99052, -521393, 605450, 231727, -65187, -702716, 177975, -1065544, 1926159, -917805, 898730, -334262, -246499, -64055, -1529236, 1497596, 304914, -635801, 398319, -183161, -37864, -253689, 403655, 94168, 306877, -83000, 210462, -2196167, 1465222, -956983, 1838447, -468003, -64602, 206242, -242155, -449079, 315198, 241099, 111540, 365942, -219310, -368665, 409837, 151210, -110244, -341938, -1212159, 683246, -70825, 335594, 417334, -272194, -236462, 657432, -211262, -128237, -1750387, 925441, 932089, -311434, 267252, -1876758, 1733696, 198551, -665765, 693229, -734926, 77242, 532869]\n"
     ]
    }
   ],
   "source": [
    "def get_changes():\n",
    "    changes = []\n",
    "    num = read_csv_file(path_budget_data)\n",
    "   \n",
    "    \n",
    "    for i in range(1,len(num)):\n",
    "        current_number = int(num[i]['Profit/Losses'])\n",
    "        previous_number = int(num[i-1]['Profit/Losses'])\n",
    "        change = current_number - previous_number\n",
    "        changes.append(change)   \n",
    "    \n",
    "    return changes\n",
    "\n",
    "\n",
    "\n",
    "print(get_changes())"
   ]
  },
  {
   "cell_type": "code",
   "execution_count": 24,
   "id": "74701f6d-e22b-4cb6-934d-5fddc1cc4951",
   "metadata": {},
   "outputs": [
    {
     "name": "stdout",
     "output_type": "stream",
     "text": [
      "-2315.12\n"
     ]
    }
   ],
   "source": [
    "def average_changes():\n",
    "    \n",
    "    avg_change = sum(get_changes()) / len(get_changes())\n",
    "    \n",
    "    \n",
    "    return round(avg_change, 2)\n",
    "\n",
    "print(average_changes())"
   ]
  },
  {
   "cell_type": "code",
   "execution_count": 58,
   "id": "433f9394-af12-4738-8340-26280b1d0daa",
   "metadata": {},
   "outputs": [
    {
     "ename": "TypeError",
     "evalue": "unhashable type: 'list'",
     "output_type": "error",
     "traceback": [
      "\u001b[1;31m---------------------------------------------------------------------------\u001b[0m",
      "\u001b[1;31mTypeError\u001b[0m                                 Traceback (most recent call last)",
      "Cell \u001b[1;32mIn[58], line 9\u001b[0m\n\u001b[0;32m      6\u001b[0m     total\u001b[38;5;241m.\u001b[39mappend(num)\n\u001b[0;32m      7\u001b[0m     \u001b[38;5;28;01mreturn\u001b[39;00m total\n\u001b[1;32m----> 9\u001b[0m \u001b[38;5;28mprint\u001b[39m(\u001b[38;5;28msum\u001b[39m(\u001b[43mtotal_b_data\u001b[49m\u001b[43m(\u001b[49m\u001b[43m)\u001b[49m))\n",
      "Cell \u001b[1;32mIn[58], line 3\u001b[0m, in \u001b[0;36mtotal_b_data\u001b[1;34m()\u001b[0m\n\u001b[0;32m      1\u001b[0m \u001b[38;5;28;01mdef\u001b[39;00m \u001b[38;5;21mtotal_b_data\u001b[39m():\n\u001b[0;32m      2\u001b[0m     total \u001b[38;5;241m=\u001b[39m[]\n\u001b[1;32m----> 3\u001b[0m     num \u001b[38;5;241m=\u001b[39m \u001b[43mread_csv_file\u001b[49m\u001b[43m(\u001b[49m\u001b[43mb_data\u001b[49m\u001b[43m)\u001b[49m\n\u001b[0;32m      5\u001b[0m     total \u001b[38;5;241m=\u001b[39m \u001b[38;5;28msum\u001b[39m(num\u001b[38;5;241m.\u001b[39mvalues())\n\u001b[0;32m      6\u001b[0m     total\u001b[38;5;241m.\u001b[39mappend(num)\n",
      "Cell \u001b[1;32mIn[27], line 15\u001b[0m, in \u001b[0;36mread_csv_file\u001b[1;34m(file_path)\u001b[0m\n\u001b[0;32m     12\u001b[0m \u001b[38;5;28;01mdef\u001b[39;00m \u001b[38;5;21mread_csv_file\u001b[39m(file_path):\n\u001b[0;32m     14\u001b[0m     b_data \u001b[38;5;241m=\u001b[39m []\n\u001b[1;32m---> 15\u001b[0m     \u001b[38;5;28;01mwith\u001b[39;00m \u001b[38;5;28;43mopen\u001b[39;49m\u001b[43m(\u001b[49m\u001b[43mfile_path\u001b[49m\u001b[43m,\u001b[49m\u001b[43m \u001b[49m\u001b[38;5;124;43m'\u001b[39;49m\u001b[38;5;124;43mr\u001b[39;49m\u001b[38;5;124;43m'\u001b[39;49m\u001b[43m)\u001b[49m \u001b[38;5;28;01mas\u001b[39;00m file:\n\u001b[0;32m     16\u001b[0m         reader \u001b[38;5;241m=\u001b[39m csv\u001b[38;5;241m.\u001b[39mDictReader(file)\n\u001b[0;32m     17\u001b[0m         \u001b[38;5;28;01mfor\u001b[39;00m row \u001b[38;5;129;01min\u001b[39;00m reader:\n",
      "File \u001b[1;32m~\\anaconda3\\lib\\site-packages\\IPython\\core\\interactiveshell.py:275\u001b[0m, in \u001b[0;36m_modified_open\u001b[1;34m(file, *args, **kwargs)\u001b[0m\n\u001b[0;32m    273\u001b[0m \u001b[38;5;129m@functools\u001b[39m\u001b[38;5;241m.\u001b[39mwraps(io_open)\n\u001b[0;32m    274\u001b[0m \u001b[38;5;28;01mdef\u001b[39;00m \u001b[38;5;21m_modified_open\u001b[39m(file, \u001b[38;5;241m*\u001b[39margs, \u001b[38;5;241m*\u001b[39m\u001b[38;5;241m*\u001b[39mkwargs):\n\u001b[1;32m--> 275\u001b[0m     \u001b[38;5;28;01mif\u001b[39;00m \u001b[43mfile\u001b[49m\u001b[43m \u001b[49m\u001b[38;5;129;43;01min\u001b[39;49;00m\u001b[43m \u001b[49m\u001b[43m{\u001b[49m\u001b[38;5;241;43m0\u001b[39;49m\u001b[43m,\u001b[49m\u001b[43m \u001b[49m\u001b[38;5;241;43m1\u001b[39;49m\u001b[43m,\u001b[49m\u001b[43m \u001b[49m\u001b[38;5;241;43m2\u001b[39;49m\u001b[43m}\u001b[49m:\n\u001b[0;32m    276\u001b[0m         \u001b[38;5;28;01mraise\u001b[39;00m \u001b[38;5;167;01mValueError\u001b[39;00m(\n\u001b[0;32m    277\u001b[0m             \u001b[38;5;124mf\u001b[39m\u001b[38;5;124m\"\u001b[39m\u001b[38;5;124mIPython won\u001b[39m\u001b[38;5;124m'\u001b[39m\u001b[38;5;124mt let you open fd=\u001b[39m\u001b[38;5;132;01m{\u001b[39;00mfile\u001b[38;5;132;01m}\u001b[39;00m\u001b[38;5;124m by default \u001b[39m\u001b[38;5;124m\"\u001b[39m\n\u001b[0;32m    278\u001b[0m             \u001b[38;5;124m\"\u001b[39m\u001b[38;5;124mas it is likely to crash IPython. If you know what you are doing, \u001b[39m\u001b[38;5;124m\"\u001b[39m\n\u001b[0;32m    279\u001b[0m             \u001b[38;5;124m\"\u001b[39m\u001b[38;5;124myou can use builtins\u001b[39m\u001b[38;5;124m'\u001b[39m\u001b[38;5;124m open.\u001b[39m\u001b[38;5;124m\"\u001b[39m\n\u001b[0;32m    280\u001b[0m         )\n\u001b[0;32m    282\u001b[0m     \u001b[38;5;28;01mreturn\u001b[39;00m io_open(file, \u001b[38;5;241m*\u001b[39margs, \u001b[38;5;241m*\u001b[39m\u001b[38;5;241m*\u001b[39mkwargs)\n",
      "\u001b[1;31mTypeError\u001b[0m: unhashable type: 'list'"
     ]
    }
   ],
   "source": [
    "def total_b_data():\n",
    "    total =[]\n",
    "    num = read_csv_file(b_data)\n",
    "    \n",
    "    total = sum(num.values())\n",
    "    total.append(num)\n",
    "    return total\n",
    "\n",
    "print(sum(total_b_data()))"
   ]
  },
  {
   "cell_type": "markdown",
   "id": "1a35d84a-b464-48a3-b46a-287ac6bbf0e5",
   "metadata": {},
   "source": [
    "# Finished product"
   ]
  },
  {
   "cell_type": "code",
   "execution_count": 33,
   "id": "9fe1902f-a612-44a2-a29d-0573a2e85c9b",
   "metadata": {},
   "outputs": [
    {
     "name": "stdout",
     "output_type": "stream",
     "text": [
      " Financial Analysis\n",
      "\n",
      "----------------------------\n",
      "\n",
      "Total Months: 86\n",
      "Average  Change: -2315.12\n"
     ]
    }
   ],
   "source": [
    "print(' Financial Analysis')\n",
    "print()\n",
    "print('----------------------------')\n",
    "print()\n",
    "print('Total Months:',len(b_data)) # total months \n",
    "#print(sum(int(read_csv_file(path_budget_data)))) # the sum of the total\n",
    "print('Average  Change:',average_changes())"
   ]
  },
  {
   "cell_type": "code",
   "execution_count": null,
   "id": "c1b985fe-39fe-4be9-aa46-2e09fe8bab4a",
   "metadata": {},
   "outputs": [],
   "source": []
  }
 ],
 "metadata": {
  "kernelspec": {
   "display_name": "Python 3 (ipykernel)",
   "language": "python",
   "name": "python3"
  },
  "language_info": {
   "codemirror_mode": {
    "name": "ipython",
    "version": 3
   },
   "file_extension": ".py",
   "mimetype": "text/x-python",
   "name": "python",
   "nbconvert_exporter": "python",
   "pygments_lexer": "ipython3",
   "version": "3.10.9"
  }
 },
 "nbformat": 4,
 "nbformat_minor": 5
}
