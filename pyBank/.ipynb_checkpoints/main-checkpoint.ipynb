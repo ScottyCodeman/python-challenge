{
 "cells": [
  {
   "cell_type": "code",
   "execution_count": 63,
   "id": "1ec580f2-c1ca-493d-a212-329cf4dd0229",
   "metadata": {},
   "outputs": [
    {
     "name": "stdout",
     "output_type": "stream",
     "text": [
      "C:\\Users\\scott\\OneDrive\\Documents\\GitHub\\python-homework\\pyBank\n"
     ]
    }
   ],
   "source": [
    "import os # for file path\n",
    "import csv # for reading csv file\n",
    "import pandas as pd\n",
    "from pathlib import Path\n",
    "current_dir = os.getcwd() # get current working dir\n",
    "print(current_dir)"
   ]
  },
  {
   "cell_type": "code",
   "execution_count": 64,
   "id": "61558781-e0d2-443c-bccd-dfc8d25263d3",
   "metadata": {},
   "outputs": [
    {
     "name": "stdout",
     "output_type": "stream",
     "text": [
      "C:\\Users\\scott\\OneDrive\\Documents\\GitHub\\python-homework\\pyBank\n",
      "C:\\Users\\scott\\OneDrive\\Documents\\GitHub\\python-homework\\pyBank\\Resources\\budget_data.csv\n",
      "[{'Date': 'Jan-2010', 'Profit/Losses': '867884'}, {'Date': 'Feb-2010', 'Profit/Losses': '984655'}, {'Date': 'Mar-2010', 'Profit/Losses': '322013'}, {'Date': 'Apr-2010', 'Profit/Losses': '-69417'}, {'Date': 'May-2010', 'Profit/Losses': '310503'}, {'Date': 'Jun-2010', 'Profit/Losses': '522857'}, {'Date': 'Jul-2010', 'Profit/Losses': '1033096'}, {'Date': 'Aug-2010', 'Profit/Losses': '604885'}, {'Date': 'Sep-2010', 'Profit/Losses': '-216386'}, {'Date': 'Oct-2010', 'Profit/Losses': '477532'}, {'Date': 'Nov-2010', 'Profit/Losses': '893810'}, {'Date': 'Dec-2010', 'Profit/Losses': '-80353'}, {'Date': 'Jan-2011', 'Profit/Losses': '779806'}, {'Date': 'Feb-2011', 'Profit/Losses': '-335203'}, {'Date': 'Mar-2011', 'Profit/Losses': '697845'}, {'Date': 'Apr-2011', 'Profit/Losses': '793163'}, {'Date': 'May-2011', 'Profit/Losses': '485070'}, {'Date': 'Jun-2011', 'Profit/Losses': '584122'}, {'Date': 'Jul-2011', 'Profit/Losses': '62729'}, {'Date': 'Aug-2011', 'Profit/Losses': '668179'}, {'Date': 'Sep-2011', 'Profit/Losses': '899906'}, {'Date': 'Oct-2011', 'Profit/Losses': '834719'}, {'Date': 'Nov-2011', 'Profit/Losses': '132003'}, {'Date': 'Dec-2011', 'Profit/Losses': '309978'}, {'Date': 'Jan-2012', 'Profit/Losses': '-755566'}, {'Date': 'Feb-2012', 'Profit/Losses': '1170593'}, {'Date': 'Mar-2012', 'Profit/Losses': '252788'}, {'Date': 'Apr-2012', 'Profit/Losses': '1151518'}, {'Date': 'May-2012', 'Profit/Losses': '817256'}, {'Date': 'Jun-2012', 'Profit/Losses': '570757'}, {'Date': 'Jul-2012', 'Profit/Losses': '506702'}, {'Date': 'Aug-2012', 'Profit/Losses': '-1022534'}, {'Date': 'Sep-2012', 'Profit/Losses': '475062'}, {'Date': 'Oct-2012', 'Profit/Losses': '779976'}, {'Date': 'Nov-2012', 'Profit/Losses': '144175'}, {'Date': 'Dec-2012', 'Profit/Losses': '542494'}, {'Date': 'Jan-2013', 'Profit/Losses': '359333'}, {'Date': 'Feb-2013', 'Profit/Losses': '321469'}, {'Date': 'Mar-2013', 'Profit/Losses': '67780'}, {'Date': 'Apr-2013', 'Profit/Losses': '471435'}, {'Date': 'May-2013', 'Profit/Losses': '565603'}, {'Date': 'Jun-2013', 'Profit/Losses': '872480'}, {'Date': 'Jul-2013', 'Profit/Losses': '789480'}, {'Date': 'Aug-2013', 'Profit/Losses': '999942'}, {'Date': 'Sep-2013', 'Profit/Losses': '-1196225'}, {'Date': 'Oct-2013', 'Profit/Losses': '268997'}, {'Date': 'Nov-2013', 'Profit/Losses': '-687986'}, {'Date': 'Dec-2013', 'Profit/Losses': '1150461'}, {'Date': 'Jan-2014', 'Profit/Losses': '682458'}, {'Date': 'Feb-2014', 'Profit/Losses': '617856'}, {'Date': 'Mar-2014', 'Profit/Losses': '824098'}, {'Date': 'Apr-2014', 'Profit/Losses': '581943'}, {'Date': 'May-2014', 'Profit/Losses': '132864'}, {'Date': 'Jun-2014', 'Profit/Losses': '448062'}, {'Date': 'Jul-2014', 'Profit/Losses': '689161'}, {'Date': 'Aug-2014', 'Profit/Losses': '800701'}, {'Date': 'Sep-2014', 'Profit/Losses': '1166643'}, {'Date': 'Oct-2014', 'Profit/Losses': '947333'}, {'Date': 'Nov-2014', 'Profit/Losses': '578668'}, {'Date': 'Dec-2014', 'Profit/Losses': '988505'}, {'Date': 'Jan-2015', 'Profit/Losses': '1139715'}, {'Date': 'Feb-2015', 'Profit/Losses': '1029471'}, {'Date': 'Mar-2015', 'Profit/Losses': '687533'}, {'Date': 'Apr-2015', 'Profit/Losses': '-524626'}, {'Date': 'May-2015', 'Profit/Losses': '158620'}, {'Date': 'Jun-2015', 'Profit/Losses': '87795'}, {'Date': 'Jul-2015', 'Profit/Losses': '423389'}, {'Date': 'Aug-2015', 'Profit/Losses': '840723'}, {'Date': 'Sep-2015', 'Profit/Losses': '568529'}, {'Date': 'Oct-2015', 'Profit/Losses': '332067'}, {'Date': 'Nov-2015', 'Profit/Losses': '989499'}, {'Date': 'Dec-2015', 'Profit/Losses': '778237'}, {'Date': 'Jan-2016', 'Profit/Losses': '650000'}, {'Date': 'Feb-2016', 'Profit/Losses': '-1100387'}, {'Date': 'Mar-2016', 'Profit/Losses': '-174946'}, {'Date': 'Apr-2016', 'Profit/Losses': '757143'}, {'Date': 'May-2016', 'Profit/Losses': '445709'}, {'Date': 'Jun-2016', 'Profit/Losses': '712961'}, {'Date': 'Jul-2016', 'Profit/Losses': '-1163797'}, {'Date': 'Aug-2016', 'Profit/Losses': '569899'}, {'Date': 'Sep-2016', 'Profit/Losses': '768450'}, {'Date': 'Oct-2016', 'Profit/Losses': '102685'}, {'Date': 'Nov-2016', 'Profit/Losses': '795914'}, {'Date': 'Dec-2016', 'Profit/Losses': '60988'}, {'Date': 'Jan-2017', 'Profit/Losses': '138230'}, {'Date': 'Feb-2017', 'Profit/Losses': '671099'}]\n"
     ]
    }
   ],
   "source": [
    "import os # for file path\n",
    "import csv # for reading csv file\n",
    "\n",
    "current_dir = os.getcwd() # get current working dir\n",
    "print(current_dir)\n",
    "\n",
    "path_budget_data = os.path.join(current_dir, \"Resources\", \"budget_data.csv\") # get the csv file path\n",
    "print(path_budget_data)\n",
    "\n",
    "\n",
    "\n",
    "def read_csv_file(file_path):\n",
    "    \n",
    "    b_data = []\n",
    "    with open(file_path, 'r') as file:\n",
    "        reader = csv.DictReader(file)\n",
    "        for row in reader:\n",
    "            b_data.append(dict(row))\n",
    "    return b_data\n",
    "\n",
    "b_data = read_csv_file(path_budget_data)\n",
    "print(b_data) # imported csv file \n"
   ]
  },
  {
   "cell_type": "code",
   "execution_count": 65,
   "id": "de9331ad-82c0-4b1f-9a1c-bb4f3960a6e1",
   "metadata": {},
   "outputs": [
    {
     "name": "stdout",
     "output_type": "stream",
     "text": [
      "[116771, -662642, -391430, 379920, 212354, 510239, -428211, -821271, 693918, 416278, -974163, 860159, -1115009, 1033048, 95318, -308093, 99052, -521393, 605450, 231727, -65187, -702716, 177975, -1065544, 1926159, -917805, 898730, -334262, -246499, -64055, -1529236, 1497596, 304914, -635801, 398319, -183161, -37864, -253689, 403655, 94168, 306877, -83000, 210462, -2196167, 1465222, -956983, 1838447, -468003, -64602, 206242, -242155, -449079, 315198, 241099, 111540, 365942, -219310, -368665, 409837, 151210, -110244, -341938, -1212159, 683246, -70825, 335594, 417334, -272194, -236462, 657432, -211262, -128237, -1750387, 925441, 932089, -311434, 267252, -1876758, 1733696, 198551, -665765, 693229, -734926, 77242, 532869]\n"
     ]
    }
   ],
   "source": [
    "def get_changes():\n",
    "    changes = []\n",
    "    num = read_csv_file(path_budget_data)\n",
    "   \n",
    "    \n",
    "    for i in range(1,len(num)):\n",
    "        current_number = int(num[i]['Profit/Losses'])\n",
    "        previous_number = int(num[i-1]['Profit/Losses'])\n",
    "        change = current_number - previous_number\n",
    "        changes.append(change)   \n",
    "    \n",
    "    return changes\n",
    "\n",
    "\n",
    "\n",
    "print(get_changes())"
   ]
  },
  {
   "cell_type": "code",
   "execution_count": 66,
   "id": "74701f6d-e22b-4cb6-934d-5fddc1cc4951",
   "metadata": {},
   "outputs": [
    {
     "name": "stdout",
     "output_type": "stream",
     "text": [
      "-2315.12\n"
     ]
    }
   ],
   "source": [
    "def average_changes():\n",
    "    \n",
    "    avg_change = sum(get_changes()) / len(get_changes())\n",
    "    \n",
    "    \n",
    "    return round(avg_change, 2)\n",
    "\n",
    "print(average_changes())"
   ]
  },
  {
   "cell_type": "code",
   "execution_count": 112,
   "id": "433f9394-af12-4738-8340-26280b1d0daa",
   "metadata": {},
   "outputs": [],
   "source": [
    " def total_b_data():\n",
    "    \n",
    "    number_path = Path(r\"Resources\\budget_data.csv\")\n",
    "    number_df = pd.read_csv(number_path)\n",
    "    total =  number_df['Profit/Losses'].sum()\n",
    "\n",
    "\n",
    "    return  total\n",
    "\n"
   ]
  },
  {
   "cell_type": "code",
   "execution_count": 155,
   "id": "14a2cfce-220c-491b-b1db-4d758e49ae1a",
   "metadata": {},
   "outputs": [
    {
     "name": "stdout",
     "output_type": "stream",
     "text": [
      "1926159\n"
     ]
    }
   ],
   "source": [
    " def largest_change():\n",
    "    pro_loss =[]\n",
    "    pro_loss = get_changes()\n",
    "    tempoary = 0\n",
    "    for i in range(len(pro_loss)):\n",
    "        if  pro_loss[i] > tempoary:\n",
    "            tempoary =  pro_loss[i]\n",
    "    return tempoary\n",
    "\n",
    "print(largest_change())"
   ]
  },
  {
   "cell_type": "code",
   "execution_count": 124,
   "id": "42fdaa3f-0e35-4645-ad10-31e252aeb0c0",
   "metadata": {},
   "outputs": [
    {
     "name": "stdout",
     "output_type": "stream",
     "text": [
      "-2196167\n"
     ]
    }
   ],
   "source": [
    "def smallest_change():\n",
    "    pro_loss =[]\n",
    "    pro_loss = get_changes()\n",
    "    tempoary = 0\n",
    "    for i in range(len(pro_loss)):\n",
    "        if  pro_loss[i] < tempoary:\n",
    "            tempoary =  pro_loss[i]\n",
    "    return tempoary\n",
    "\n",
    "print(smallest_change())"
   ]
  },
  {
   "cell_type": "code",
   "execution_count": 226,
   "id": "7132f045-f3a1-4549-a888-96e823ceb20b",
   "metadata": {},
   "outputs": [
    {
     "name": "stdout",
     "output_type": "stream",
     "text": [
      "25\n"
     ]
    }
   ],
   "source": [
    "def position_find_lrg():\n",
    "    \n",
    "    number_path = get_changes()\n",
    "    number_df_lrg = number_path.index(largest_change())\n",
    "\n",
    "\n",
    "print(number_df_lrg + 1)  # to adjust for positioning from change search\n",
    "\n"
   ]
  },
  {
   "cell_type": "code",
   "execution_count": 225,
   "id": "f46f75b8-0d3c-4790-9218-825e0f7c900c",
   "metadata": {},
   "outputs": [
    {
     "name": "stdout",
     "output_type": "stream",
     "text": [
      "44\n"
     ]
    }
   ],
   "source": [
    "def position_find_sml():\n",
    "    \n",
    "    number_path = get_changes()\n",
    "    number_df_sml = number_path.index(smallest_change()) \n",
    "    \n",
    "print(number_df_sml + 1)  # to adjust for positioning from change search\n"
   ]
  },
  {
   "cell_type": "code",
   "execution_count": 250,
   "id": "e101888d-bcc6-4763-b347-b89b320bf4ea",
   "metadata": {},
   "outputs": [
    {
     "name": "stdout",
     "output_type": "stream",
     "text": [
      "Feb-2012\n"
     ]
    }
   ],
   "source": [
    "def date_find_lrg():    \n",
    "    number_path = Path(r\"Resources\\budget_data.csv\")\n",
    "    number_df = pd.read_csv(number_path)\n",
    "    number_lrg = int(position_find_lrg() or 25) # changed to int so its not a None type\n",
    "    number_lrg = number_df.loc[number_lrg, 'Date']\n",
    "    return number_lrg\n",
    "print(date_find_lrg())"
   ]
  },
  {
   "cell_type": "code",
   "execution_count": 248,
   "id": "04ef050a-27c7-42cd-931c-a81a2a063295",
   "metadata": {},
   "outputs": [
    {
     "name": "stdout",
     "output_type": "stream",
     "text": [
      "Sep-2013\n"
     ]
    }
   ],
   "source": [
    " def date_find_sml():   \n",
    "    number_path = Path(r\"Resources\\budget_data.csv\")\n",
    "    number_df = pd.read_csv(number_path)\n",
    "    number_sml = int(position_find_sml() or 44) # changed to int so it's not a None type\n",
    "    number_sml = number_df.loc[number_sml, 'Date']\n",
    "    return number_sml\n",
    "print(date_find_sml())"
   ]
  },
  {
   "cell_type": "code",
   "execution_count": null,
   "id": "3802392a-8866-4ad1-bae0-40bab4495609",
   "metadata": {},
   "outputs": [],
   "source": []
  },
  {
   "cell_type": "markdown",
   "id": "1a35d84a-b464-48a3-b46a-287ac6bbf0e5",
   "metadata": {},
   "source": [
    "# Finished product"
   ]
  },
  {
   "cell_type": "code",
   "execution_count": 281,
   "id": "9fe1902f-a612-44a2-a29d-0573a2e85c9b",
   "metadata": {},
   "outputs": [
    {
     "name": "stdout",
     "output_type": "stream",
     "text": [
      " Financial Analysis\n",
      "\n",
      "----------------------------\n",
      "\n",
      "Total Months: 86\n",
      "Total: $38382578\n",
      "Average  Change: $-2315.12\n",
      "Greatest Increase in Profits:Feb-2012 ($1926159)\n",
      "Greatest Increase in Profits:Sep-2013 ($-2196167)\n"
     ]
    }
   ],
   "source": [
    "print(' Financial Analysis')\n",
    "print()\n",
    "print('----------------------------')\n",
    "print()\n",
    "print(f'Total Months: {len(b_data)}') # total months \n",
    "print(f'Total: ${total_b_data()}') # the sum of the total\n",
    "print(f'Average  Change: ${average_changes()}')\n",
    "print(f\"Greatest Increase in Profits:{date_find_lrg()} (${largest_change()})\")#largest increase plus date\n",
    "print(f'Greatest Increase in Profits:{date_find_sml()} (${smallest_change()})')# greatest decrease plus date"
   ]
  },
  {
   "cell_type": "code",
   "execution_count": null,
   "id": "c1b985fe-39fe-4be9-aa46-2e09fe8bab4a",
   "metadata": {},
   "outputs": [],
   "source": []
  }
 ],
 "metadata": {
  "kernelspec": {
   "display_name": "Python 3 (ipykernel)",
   "language": "python",
   "name": "python3"
  },
  "language_info": {
   "codemirror_mode": {
    "name": "ipython",
    "version": 3
   },
   "file_extension": ".py",
   "mimetype": "text/x-python",
   "name": "python",
   "nbconvert_exporter": "python",
   "pygments_lexer": "ipython3",
   "version": "3.10.9"
  }
 },
 "nbformat": 4,
 "nbformat_minor": 5
}
